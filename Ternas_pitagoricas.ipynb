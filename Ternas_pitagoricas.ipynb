{
 "cells": [
  {
   "cell_type": "code",
   "execution_count": 53,
   "id": "a523d9f1-0207-4216-a980-b975fdffd5a7",
   "metadata": {},
   "outputs": [],
   "source": [
    "#https://docs.python.org/es/3/library/math.html\n",
    "import math\n",
    "\n",
    "def ternas_pitagoricas(lista_numeros):\n",
    "    '''Apartir de una lista de numeros reales determina las posibles ternas\n",
    "        pitagóricas entre los elementos de la lista.\n",
    "    \n",
    "        Parameters\n",
    "        ----------\n",
    "        lista_numeros : list\n",
    "            Lista con números reales.\n",
    "        \n",
    "        Returns\n",
    "        ------    \n",
    "        dict\n",
    "            Diccionario de las ternas que contiene los números que conforman la\n",
    "            respectiva terna.\n",
    "    '''\n",
    "    \n",
    "    # Inicializar diccionario\n",
    "    dicc = {}  \n",
    "\n",
    "    # Eliminar casos numeros repetidos de la lista para evitar repeticiones\n",
    "    lista = list(set(lista_numeros))\n",
    "    \n",
    "    # Inicializar contador de ternas\n",
    "    contador = 1\n",
    "    \n",
    "    # For que recorre \n",
    "    for i in range(len(lista)):\n",
    "        # El rango empieza en i para que no hayan casos repetidos y si considere él mismo\n",
    "        for j in range(i, len(lista)):\n",
    "            a = lista[i]\n",
    "            b = lista[j]\n",
    "            a_2 = a ** 2\n",
    "            b_2 = b ** 2\n",
    "            c_2 = a_2 + b_2\n",
    "            c = math.sqrt(c_2)\n",
    "            \n",
    "            # Manejar el caso especial cuando c es cero\n",
    "            if c_2 == 0:\n",
    "                dicc[f'Terna{contador}'] = {\n",
    "                    'a': a,\n",
    "                    'b': b,\n",
    "                    'c': c\n",
    "                }\n",
    "                contador += 1\n",
    "            elif c in lista:\n",
    "                dicc[f'Terna{contador}'] = {\n",
    "                    'a': a,\n",
    "                    'b': b,\n",
    "                    'c': c\n",
    "                }\n",
    "                # Sumar uno al contador de las ternas\n",
    "                contador += 1\n",
    "        \n",
    "    return dicc  "
   ]
  },
  {
   "cell_type": "code",
   "execution_count": 54,
   "id": "98c95c75-8077-4b16-847f-66fa3955745f",
   "metadata": {},
   "outputs": [
    {
     "name": "stdout",
     "output_type": "stream",
     "text": [
      "{'Terna1': {'a': 0, 'b': 0, 'c': 0.0}, 'Terna2': {'a': 0, 'b': 1.5, 'c': 1.5}, 'Terna3': {'a': 0, 'b': 1.3333333333333333, 'c': 1.3333333333333333}, 'Terna4': {'a': 0, 'b': 3, 'c': 3.0}, 'Terna5': {'a': 0, 'b': 4, 'c': 4.0}, 'Terna6': {'a': 0, 'b': 5, 'c': 5.0}, 'Terna7': {'a': 0, 'b': 6, 'c': 6.0}, 'Terna8': {'a': 0, 'b': 1.4142135623730951, 'c': 1.4142135623730951}, 'Terna9': {'a': 0, 'b': 2.0069324297987157, 'c': 2.0069324297987157}, 'Terna10': {'a': 1.5, 'b': 1.3333333333333333, 'c': 2.0069324297987157}, 'Terna11': {'a': 3, 'b': 4, 'c': 5.0}}\n"
     ]
    }
   ],
   "source": [
    "list_pru = [0, 3, 3/2, 4, 4/3, 5, 6, math.sqrt(2), math.sqrt(145/36)]        \n",
    "     \n",
    "print(ternas_pitagoricas(list_pru)) \n",
    "        "
   ]
  }
 ],
 "metadata": {
  "kernelspec": {
   "display_name": "Python 3 (ipykernel)",
   "language": "python",
   "name": "python3"
  },
  "language_info": {
   "codemirror_mode": {
    "name": "ipython",
    "version": 3
   },
   "file_extension": ".py",
   "mimetype": "text/x-python",
   "name": "python",
   "nbconvert_exporter": "python",
   "pygments_lexer": "ipython3",
   "version": "3.11.7"
  }
 },
 "nbformat": 4,
 "nbformat_minor": 5
}
