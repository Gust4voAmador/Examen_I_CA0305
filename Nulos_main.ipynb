{
 "cells": [
  {
   "cell_type": "code",
   "execution_count": 20,
   "id": "e35d9a7c-07fc-455c-a56b-9651b3c59f9f",
   "metadata": {},
   "outputs": [],
   "source": [
    "import pandas as pd\n",
    "from Nulos import Nulos\n",
    "import matplotlib.pyplot as plt"
   ]
  },
  {
   "cell_type": "code",
   "execution_count": 21,
   "id": "f87904bf-c2b5-46df-ab82-e3cd519a84d7",
   "metadata": {
    "scrolled": true
   },
   "outputs": [
    {
     "data": {
      "text/html": [
       "<div>\n",
       "<style scoped>\n",
       "    .dataframe tbody tr th:only-of-type {\n",
       "        vertical-align: middle;\n",
       "    }\n",
       "\n",
       "    .dataframe tbody tr th {\n",
       "        vertical-align: top;\n",
       "    }\n",
       "\n",
       "    .dataframe thead th {\n",
       "        text-align: right;\n",
       "    }\n",
       "</style>\n",
       "<table border=\"1\" class=\"dataframe\">\n",
       "  <thead>\n",
       "    <tr style=\"text-align: right;\">\n",
       "      <th></th>\n",
       "      <th>Grupo</th>\n",
       "      <th>Departamento</th>\n",
       "      <th>División</th>\n",
       "      <th>Género</th>\n",
       "      <th>Salario base</th>\n",
       "      <th>Pago de tiempo extra</th>\n",
       "      <th>Grado de estudio</th>\n",
       "    </tr>\n",
       "  </thead>\n",
       "  <tbody>\n",
       "    <tr>\n",
       "      <th>0</th>\n",
       "      <td>ABS</td>\n",
       "      <td>Alcohol Beverage Services</td>\n",
       "      <td>ABS 85 Administration</td>\n",
       "      <td>M</td>\n",
       "      <td>175873.00</td>\n",
       "      <td>0.00</td>\n",
       "      <td>M2</td>\n",
       "    </tr>\n",
       "    <tr>\n",
       "      <th>1</th>\n",
       "      <td>ABS</td>\n",
       "      <td>Alcohol Beverage Services</td>\n",
       "      <td>ABS 85 Administration</td>\n",
       "      <td>M</td>\n",
       "      <td>145613.36</td>\n",
       "      <td>0.00</td>\n",
       "      <td>M3</td>\n",
       "    </tr>\n",
       "    <tr>\n",
       "      <th>2</th>\n",
       "      <td>ABS</td>\n",
       "      <td>Alcohol Beverage Services</td>\n",
       "      <td>ABS 85 Administration</td>\n",
       "      <td>NaN</td>\n",
       "      <td>136970.00</td>\n",
       "      <td>0.00</td>\n",
       "      <td>M3</td>\n",
       "    </tr>\n",
       "    <tr>\n",
       "      <th>3</th>\n",
       "      <td>ABS</td>\n",
       "      <td>Alcohol Beverage Services</td>\n",
       "      <td>ABS 85 Administrative Services</td>\n",
       "      <td>F</td>\n",
       "      <td>89432694.00</td>\n",
       "      <td>0.00</td>\n",
       "      <td>21</td>\n",
       "    </tr>\n",
       "    <tr>\n",
       "      <th>4</th>\n",
       "      <td>ABS</td>\n",
       "      <td>Alcohol Beverage Services</td>\n",
       "      <td>ABS 85 Administrative Services</td>\n",
       "      <td>F</td>\n",
       "      <td>78947.00</td>\n",
       "      <td>456.68</td>\n",
       "      <td>16</td>\n",
       "    </tr>\n",
       "  </tbody>\n",
       "</table>\n",
       "</div>"
      ],
      "text/plain": [
       "  Grupo               Departamento                        División Género  \\\n",
       "0   ABS  Alcohol Beverage Services           ABS 85 Administration      M   \n",
       "1   ABS  Alcohol Beverage Services           ABS 85 Administration      M   \n",
       "2   ABS  Alcohol Beverage Services           ABS 85 Administration    NaN   \n",
       "3   ABS  Alcohol Beverage Services  ABS 85 Administrative Services      F   \n",
       "4   ABS  Alcohol Beverage Services  ABS 85 Administrative Services      F   \n",
       "\n",
       "   Salario base  Pago de tiempo extra Grado de estudio  \n",
       "0     175873.00                  0.00               M2  \n",
       "1     145613.36                  0.00               M3  \n",
       "2     136970.00                  0.00               M3  \n",
       "3   89432694.00                  0.00               21  \n",
       "4      78947.00                456.68               16  "
      ]
     },
     "execution_count": 21,
     "metadata": {},
     "output_type": "execute_result"
    }
   ],
   "source": [
    "# Ruta del archivo\n",
    "ruta_archivo = r'C:\\Users\\AMADOR\\OneDrive - Universidad de Costa Rica\\I-2024\\Herramientas para ciencia de datos II\\Examen I Largo\\Base_salarios.xlsx'\n",
    "\n",
    "# Leer el archivo Excel\n",
    "Base_salarios = pd.read_excel(ruta_archivo)\n",
    "\n",
    "#Hacerlos objeto de la clase Nulos\n",
    "df_salarios = Nulos(Base_salarios)\n",
    "\n",
    "Base_salarios.head()\n"
   ]
  },
  {
   "cell_type": "markdown",
   "id": "3642407b-b19d-4ec3-a915-b1fdc783dae3",
   "metadata": {},
   "source": [
    "# Prueba de métodos en Salarios_base"
   ]
  },
  {
   "cell_type": "markdown",
   "id": "67acf04b-79fb-441e-a6df-c54efe6b0a2f",
   "metadata": {},
   "source": [
    "## Valorar columna \"Salario base\" original "
   ]
  },
  {
   "cell_type": "markdown",
   "id": "9f1a2c6b-e57d-465f-95a0-3b891be79d1a",
   "metadata": {},
   "source": [
    "### Histograma"
   ]
  },
  {
   "cell_type": "code",
   "execution_count": 22,
   "id": "a9b8e1d7-2708-4a65-af0f-78be762b0a21",
   "metadata": {},
   "outputs": [
    {
     "data": {
      "image/png": "[encoded data removed]",
      "text/plain": [
       "<Figure size 640x480 with 1 Axes>"
      ]
     },
     "metadata": {},
     "output_type": "display_data"
    }
   ],
   "source": [
    "\n",
    "plt.hist(Base_salarios['Salario base'], bins=20, orientation='horizontal')\n",
    "\n",
    "plt.title(\"Histograma de Salario Base (Datos Originales)\")\n",
    "plt.xlabel('Frecuencia')\n",
    "plt.ylabel('Salario base')\n",
    "\n",
    "plt.gca().invert_yaxis()\n",
    "# ver el gráfico\n",
    "plt.show()"
   ]
  },
  {
   "cell_type": "markdown",
   "id": "b74bdab4-30e0-4b1f-a5f9-c4b8c3ecadb2",
   "metadata": {},
   "source": [
    "### Tabla estadística"
   ]
  },
  {
   "cell_type": "code",
   "execution_count": 23,
   "id": "dbe8cefb-30de-4a22-8c89-6c7ba972e886",
   "metadata": {},
   "outputs": [
    {
     "data": {
      "text/html": [
       "<div>\n",
       "<style scoped>\n",
       "    .dataframe tbody tr th:only-of-type {\n",
       "        vertical-align: middle;\n",
       "    }\n",
       "\n",
       "    .dataframe tbody tr th {\n",
       "        vertical-align: top;\n",
       "    }\n",
       "\n",
       "    .dataframe thead th {\n",
       "        text-align: right;\n",
       "    }\n",
       "</style>\n",
       "<table border=\"1\" class=\"dataframe\">\n",
       "  <thead>\n",
       "    <tr style=\"text-align: right;\">\n",
       "      <th></th>\n",
       "      <th>count</th>\n",
       "      <th>mean</th>\n",
       "      <th>std</th>\n",
       "      <th>min</th>\n",
       "      <th>25%</th>\n",
       "      <th>50%</th>\n",
       "      <th>75%</th>\n",
       "      <th>max</th>\n",
       "    </tr>\n",
       "  </thead>\n",
       "  <tbody>\n",
       "    <tr>\n",
       "      <th>Salario base</th>\n",
       "      <td>9773.0</td>\n",
       "      <td>1.453652e+08</td>\n",
       "      <td>3.171114e+08</td>\n",
       "      <td>11147.24</td>\n",
       "      <td>78947.0</td>\n",
       "      <td>105942.0</td>\n",
       "      <td>167306.0</td>\n",
       "      <td>1.847173e+09</td>\n",
       "    </tr>\n",
       "  </tbody>\n",
       "</table>\n",
       "</div>"
      ],
      "text/plain": [
       "               count          mean           std       min      25%       50%  \\\n",
       "Salario base  9773.0  1.453652e+08  3.171114e+08  11147.24  78947.0  105942.0   \n",
       "\n",
       "                   75%           max  \n",
       "Salario base  167306.0  1.847173e+09  "
      ]
     },
     "execution_count": 23,
     "metadata": {},
     "output_type": "execute_result"
    }
   ],
   "source": [
    "#https://pandas.pydata.org/docs/reference/api/pandas.DataFrame.describe.html\n",
    "estadisticas1 = Base_salarios['Salario base'].describe()\n",
    "\n",
    "df_estadisticas1 = pd.DataFrame(estadisticas1)\n",
    "# Transponer: https://numpy.org/doc/stable/reference/generated/numpy.transpose.html\n",
    "df_estadisticas1 = df_estadisticas1.transpose()\n",
    "df_estadisticas1\n"
   ]
  },
  {
   "cell_type": "markdown",
   "id": "1319437e-8597-4ff5-a46d-bea04aa54e3d",
   "metadata": {},
   "source": [
    "# Prueba de métodos para el tratamiento de NaN"
   ]
  },
  {
   "cell_type": "code",
   "execution_count": 24,
   "id": "ed996e2f-df25-44c9-9ad4-04ef3419622a",
   "metadata": {},
   "outputs": [],
   "source": [
    "#Creacion de df con los nulos eliminados con el módulo Nulos\n",
    "#https://pandas.pydata.org/pandas-docs/stable/reference/api/pandas.isnull.html\n",
    "#https://www.freecodecamp.org/espanol/news/eliminar-la-lista-de-filas-del-dataframe-de-pandas/\n",
    "df_eliminados = df_salarios.eliminar_nulos(\"Salario base\")\n",
    "\n",
    "#Creacion de df con los nulos imputados por el promedio\n",
    "#https://interactivechaos.com/es/manual/tutorial-de-pandas/el-metodo-fillna\n",
    "df_imput_media = df_salarios.imputacion_estadistica(\"Salario base\")\n",
    "\n",
    "#Creacion de df con los nulos imputados por el promedio segun la agrupación\n",
    "#https://pandas.pydata.org/pandas-docs/stable/reference/api/pandas.DataFrame.groupby.html\n",
    "#https://pandas.pydata.org/docs/reference/api/pandas.DataFrame.transform.html\n",
    "#https://www.youtube.com/watch?v=JPey7neLDzo\n",
    "#https://pandas.pydata.org/docs/reference/api/pandas.DataFrame.fillna.html\n",
    "df_imput_agrupa = df_salarios.imputacion_por_grupo(['Grado de estudio','División'],\"Salario base\")\n",
    "#Creacion de df con los nulos imputados por la banda móvil = 5\n",
    "df_imput_banda = df_salarios.imputacion_banda_movil(\"Salario base\",5)"
   ]
  },
  {
   "cell_type": "code",
   "execution_count": 25,
   "id": "c73d07b6-b9b6-4bfd-885a-9423626596b0",
   "metadata": {},
   "outputs": [
    {
     "data": {
      "image/png": "[encoded data removed]",
      "text/plain": [
       "<Figure size 1200x800 with 4 Axes>"
      ]
     },
     "metadata": {},
     "output_type": "display_data"
    }
   ],
   "source": [
    "# Crear un grafico oficial para los subgráficos\n",
    "fig, axs = plt.subplots(2, 2, figsize=(12, 8))\n",
    "\n",
    "# Datos y etiquetas para los subgráficos\n",
    "datos = [df_eliminados['Salario base'], df_imput_media['Salario base'], df_imput_agrupa['Salario base'], df_imput_banda['Salario base']]\n",
    "etiquetas = ['Observaciones eliminadas', 'Imputación de nulos por Media','Imputación de nulos por media de Agrupación' , 'Imputación de nulos por Media de banda móvil = 5']\n",
    "\n",
    "# Iterar sobre los ejes y los datos para crear los subgráficos\n",
    "for ax, dato, etiqueta in zip(axs.flatten(), datos, etiquetas):\n",
    "    ax.hist(dato, bins=20, orientation='horizontal')  # Histograma con orientación horizontal\n",
    "    ax.set_title(etiqueta)\n",
    "    ax.set_xlabel('Frecuencia')\n",
    "    ax.set_ylabel('Salario base')\n",
    "    ax.invert_yaxis()  # Invertir el eje y para que los datos aparezcan en orden ascendente\n",
    "\n",
    "# Ajustar el diseño de los subgráficos\n",
    "plt.tight_layout()\n",
    "\n",
    "plt.show()"
   ]
  },
  {
   "cell_type": "code",
   "execution_count": 26,
   "id": "cdd91fc0-1028-42f3-a10a-635d9d7c84c5",
   "metadata": {},
   "outputs": [
    {
     "data": {
      "text/html": [
       "<div>\n",
       "<style scoped>\n",
       "    .dataframe tbody tr th:only-of-type {\n",
       "        vertical-align: middle;\n",
       "    }\n",
       "\n",
       "    .dataframe tbody tr th {\n",
       "        vertical-align: top;\n",
       "    }\n",
       "\n",
       "    .dataframe thead th {\n",
       "        text-align: right;\n",
       "    }\n",
       "</style>\n",
       "<table border=\"1\" class=\"dataframe\">\n",
       "  <thead>\n",
       "    <tr style=\"text-align: right;\">\n",
       "      <th></th>\n",
       "      <th>count</th>\n",
       "      <th>mean</th>\n",
       "      <th>std</th>\n",
       "      <th>min</th>\n",
       "      <th>25%</th>\n",
       "      <th>50%</th>\n",
       "      <th>75%</th>\n",
       "      <th>max</th>\n",
       "      <th>Método</th>\n",
       "    </tr>\n",
       "  </thead>\n",
       "  <tbody>\n",
       "    <tr>\n",
       "      <th>Salario base</th>\n",
       "      <td>9773.0</td>\n",
       "      <td>1.453652e+08</td>\n",
       "      <td>3.171114e+08</td>\n",
       "      <td>11147.24</td>\n",
       "      <td>78947.0</td>\n",
       "      <td>105942.0</td>\n",
       "      <td>1.673060e+05</td>\n",
       "      <td>1.847173e+09</td>\n",
       "      <td>Observaciones eliminadas</td>\n",
       "    </tr>\n",
       "    <tr>\n",
       "      <th>Salario base</th>\n",
       "      <td>10291.0</td>\n",
       "      <td>1.453652e+08</td>\n",
       "      <td>3.090266e+08</td>\n",
       "      <td>11147.24</td>\n",
       "      <td>78947.0</td>\n",
       "      <td>107367.0</td>\n",
       "      <td>7.138999e+07</td>\n",
       "      <td>1.847173e+09</td>\n",
       "      <td>Imputación de nulos por Media</td>\n",
       "    </tr>\n",
       "    <tr>\n",
       "      <th>Salario base</th>\n",
       "      <td>10011.0</td>\n",
       "      <td>1.441172e+08</td>\n",
       "      <td>3.146510e+08</td>\n",
       "      <td>11147.24</td>\n",
       "      <td>78947.0</td>\n",
       "      <td>105942.0</td>\n",
       "      <td>1.682461e+05</td>\n",
       "      <td>1.847173e+09</td>\n",
       "      <td>Imputación de nulos por Media de Agrupación</td>\n",
       "    </tr>\n",
       "    <tr>\n",
       "      <th>Salario base</th>\n",
       "      <td>10291.0</td>\n",
       "      <td>1.443694e+08</td>\n",
       "      <td>3.110179e+08</td>\n",
       "      <td>11147.24</td>\n",
       "      <td>78947.0</td>\n",
       "      <td>106504.0</td>\n",
       "      <td>1.960590e+05</td>\n",
       "      <td>1.847173e+09</td>\n",
       "      <td>Imputación de nulos por Media de banda móvil = 5</td>\n",
       "    </tr>\n",
       "  </tbody>\n",
       "</table>\n",
       "</div>"
      ],
      "text/plain": [
       "                count          mean           std       min      25%  \\\n",
       "Salario base   9773.0  1.453652e+08  3.171114e+08  11147.24  78947.0   \n",
       "Salario base  10291.0  1.453652e+08  3.090266e+08  11147.24  78947.0   \n",
       "Salario base  10011.0  1.441172e+08  3.146510e+08  11147.24  78947.0   \n",
       "Salario base  10291.0  1.443694e+08  3.110179e+08  11147.24  78947.0   \n",
       "\n",
       "                   50%           75%           max  \\\n",
       "Salario base  105942.0  1.673060e+05  1.847173e+09   \n",
       "Salario base  107367.0  7.138999e+07  1.847173e+09   \n",
       "Salario base  105942.0  1.682461e+05  1.847173e+09   \n",
       "Salario base  106504.0  1.960590e+05  1.847173e+09   \n",
       "\n",
       "                                                        Método  \n",
       "Salario base                          Observaciones eliminadas  \n",
       "Salario base                     Imputación de nulos por Media  \n",
       "Salario base       Imputación de nulos por Media de Agrupación  \n",
       "Salario base  Imputación de nulos por Media de banda móvil = 5  "
      ]
     },
     "execution_count": 26,
     "metadata": {},
     "output_type": "execute_result"
    }
   ],
   "source": [
    "#Se debe hacer lo mismo para obtener una tabla para cada df y al final unirlos\n",
    "\n",
    "# Calcular las estadísticas \n",
    "estadisticas_elim = df_eliminados['Salario base'].describe()\n",
    "estadisticas_media = df_imput_media['Salario base'].describe()\n",
    "estadisticas_agrupa = df_imput_agrupa['Salario base'].describe()\n",
    "estadisticas_banda = df_imput_banda['Salario base'].describe()\n",
    "\n",
    "# Crear df para cada estadísticas\n",
    "df_estadisticas_elim = pd.DataFrame(estadisticas_elim)\n",
    "df_estadisticas_media = pd.DataFrame(estadisticas_media)\n",
    "df_estadisticas_agrupa = pd.DataFrame(estadisticas_agrupa)\n",
    "df_estadisticas_banda = pd.DataFrame(estadisticas_banda)\n",
    "\n",
    "# Transponer los df para que las estadísticas sean columnas \n",
    "df_estadisticas_elim = df_estadisticas_elim.transpose()\n",
    "df_estadisticas_media = df_estadisticas_media.transpose()\n",
    "df_estadisticas_agrupa = df_estadisticas_agrupa.transpose()\n",
    "df_estadisticas_banda = df_estadisticas_banda.transpose()\n",
    "\n",
    "# Agregar una columna Método para identificar cual es cual\n",
    "df_estadisticas_elim['Método'] = 'Observaciones eliminadas'\n",
    "df_estadisticas_media['Método'] = 'Imputación de nulos por Media'\n",
    "df_estadisticas_agrupa['Método'] = 'Imputación de nulos por Media de Agrupación'\n",
    "df_estadisticas_banda['Método'] = 'Imputación de nulos por Media de banda móvil = 5'\n",
    "\n",
    "#unir\n",
    "df_estadisticas_total = pd.concat([df_estadisticas_elim, df_estadisticas_media, df_estadisticas_agrupa, df_estadisticas_banda])\n",
    "\n",
    "# Mostrar el DataFrame resultante\n",
    "df_estadisticas_total\n"
   ]
  },
  {
   "cell_type": "markdown",
   "id": "ba1408c4-a1e7-4738-ab73-94e8992e281d",
   "metadata": {},
   "source": [
    "### Observaciones eliminadas\n",
    "Según el gráfico no se aprecia alguna difencia entre los datos iniciales con nulos y despues de la eliminación de la observaciones. En la tabla de estadísticas tampoco muestra diferencia, esto sucedo porque al considerar solo esta columna para el análisis los datos nulos python los igora, por ende es como si por defecto los eliminara. \n",
    "\n",
    "### Imputación de nulos por Media\n",
    "Según el gráfico de histograma se evidencia un cambio abrupto, pues muestra un aumento en la segunda barra, esto se puede ver apoyado por la tabla de de estadísticas, esta evidencia que la media se encuentra donde aumentó la cantidad de personas con esos salarios, que anteriormente eran todos los datos ignorados. Tambien se muestran diferencias en la distribución de los percentiles.\n",
    "\n",
    "### Imputación de nulos por Media de Agrupación\n",
    "Según  el gráfico, a pesar de ser leve, si se muestra una un crecimiento mas uniforme en las barras iniciales. Esto se puede deber a la agrupación, al aumentar un poco cada barra es un buen indicio de una buena asignación de datos, ya que no se acomularon todos de forma anormal en cierto valor. En la tabla se evidencia sobretodo en el cambio de los dos ultimos percentiles.\n",
    "\n",
    "### Imputación de nulos por Media de banda móvil = 5\n",
    "Según el gráfico, evidencia un crecimiento en la tercera barra más evidente, no obstante tambien se distribuye algo uniforme, esto se puede deber a que los datos están ordenados por departamente y divisón, entonces al realizar este tipo de imputación permite usar datos similares a los del departamento por ejemplo. En la tabla muestra una distribución de distribución d elos percentiles muy similar a la de Imputación de nulos por Media de Agrupación."
   ]
  },
  {
   "cell_type": "markdown",
   "id": "514bd7d2-f20a-4172-9f6f-7b57136caad3",
   "metadata": {},
   "source": [
    "# ¿Cómo se determina una metodología razonable?"
   ]
  },
  {
   "cell_type": "markdown",
   "id": "48273e9f-e65b-4ac5-935e-7ae30a0f40d4",
   "metadata": {},
   "source": [
    "->Cantidad de datos faltantes: Eliminar columnas con una gran cantidad de valores faltantes en lugar de filas para preservar información relevante.\n",
    "\n",
    "->Tipo de datos de a tratar: La estrategia para manejar valores faltantes difiere entre variables numéricas y categóricas.\n",
    "\n",
    "->Predicció de faltantes: Utilizar soluciones multivariables si los datos faltantes muestran un patrón específico en relación con otras variables,\n",
    "  de manear que obtener los datos faltantes es relativamente sencillo y exacto.\n",
    "  \n",
    "->Efecto en la distribución de la variable: Seleccionar un método considerando su impacto en la distribución original de los datos, de manera que no\n",
    "  hay una pérdida significativa de datos al tratar de solucionar los nulos.\n",
    "  \n",
    "  Referencias: \n",
    "      https://docs.kanaries.net/es/topics/Pandas/pandas-where\n",
    "      https://www.youtube.com/watch?v=O2q7tSPLCJg\n",
    "      https://www.linkedin.com/pulse/c%C3%B3mo-puedo-manejar-los-valores-faltantes-seg%C3%BAn-la-raz%C3%B3n-marcelo-cruz/"
   ]
  },
  {
   "cell_type": "markdown",
   "id": "5b1c5082-7b6f-4db5-ab9f-0c212dd96cb0",
   "metadata": {},
   "source": [
    "# ¿Cuál usaría usted y por qué?"
   ]
  },
  {
   "cell_type": "markdown",
   "id": "6cdb9a61-b38c-4c2a-91a3-2943a474ba44",
   "metadata": {},
   "source": [
    "Yo utilizaría la metodología de Imputación de nulos por Media de Agrupación: \n",
    "\n",
    "1- Como el tipo de dato es numérico, el obtener algún tipo de media no es mala idea. \n",
    "\n",
    "2- Considero que lo clave de mi desición es que esta media no es cualquiera, sino que la perteneciente a la agrupación por Grado de estudio y división en la empresa, considero que es lo más realista posible, ya que el salario debe ser directamente dependiente de estas dos categorías. Ignoré categorías como sexo que debería ser indiferente y grupo, ya que esta es mas general que división. Por ende, considero que es la mejor imputación. \n",
    "\n",
    "3- Además al ser una buena imputación basada en criterios lógicos y no aleatorios o extremistas como el promedio total, el impacto total en los datos no es extremo permitiendo conservar la información en gran medida. Descarté el de banda móvil, ya que los salarios no está ordenados de mayor a menos o no presentan alguna relación más fuerte en su cercanía que la de agrupación."
   ]
  },
  {
   "cell_type": "markdown",
   "id": "c0057a9b-83de-4a2a-9b94-864e5c00932a",
   "metadata": {},
   "source": [
    "# Opcional"
   ]
  },
  {
   "cell_type": "markdown",
   "id": "d1576abe-bc75-431e-8453-6bd770ffd77d",
   "metadata": {},
   "source": [
    "La librería Pandas pueden realizar lo anterior, con ayuda del método 'rolling':"
   ]
  },
  {
   "cell_type": "markdown",
   "id": "304775fa-980f-4fb5-9d6a-2572e6e373f6",
   "metadata": {},
   "source": [
    "## De la página oficial de Pandas\n",
    "El método rolling en Pandas proporciona cálculos de ventanas móviles, lo que significa que calcula estadísticas sobre una ventana deslizante de datos en una serie temporal o en una columna de un DataFrame. Aquí está una explicación de los parámetros que puedes pasar a rolling:\n",
    "\n",
    "'window': Este parámetro especifica el tamaño de la ventana móvil. Puede ser un número entero que indica el número fijo de observaciones utilizadas para cada ventana, o puede ser un período de tiempo, cadena de tiempo, o un objeto timedelta que indica el período de tiempo de cada ventana. Por ejemplo, si pasas window=2, estarás calculando estadísticas utilizando las dos observaciones anteriores.\n",
    "\n",
    "'min_periods': Este parámetro especifica el número mínimo de observaciones en la ventana requeridas para calcular un valor; de lo contrario, el resultado es NaN.\n",
    "\n",
    "'center': Este parámetro indica si los índices de las ventanas deben ser el centro de la ventana (si es True) o el borde derecho de la ventana (si es False).\n",
    "\n",
    "'win_type': Este parámetro especifica el tipo de ventana a utilizar. Por ejemplo, puedes especificar funciones de ventana de la biblioteca scipy.signal.\n",
    "\n",
    "'on': Este parámetro, opcional, te permite calcular la ventana móvil en función de una columna de un DataFrame en lugar del índice del DataFrame.\n",
    "\n",
    "'axis': Este parámetro especifica si se debe aplicar el cálculo de la ventana a través de las filas (axis=0 o 'index') o a través de las columnas (axis=1 o 'columns'). En la última versión, se ha marcado como obsoleta la opción axis, y se sugiere transponer el DataFrame si se desea realizar el cálculo a lo largo de las columnas.\n",
    "\n",
    "'closed': Este parámetro indica cómo se debe manejar el extremo de la ventana. Por ejemplo, puedes especificar que el primer punto en la ventana se excluya de los cálculos ('right'), o que el último punto en la ventana se excluya ('left').\n",
    "\n",
    "'step': Este parámetro, introducido en la versión 1.5.0, evalúa la ventana en cada paso de resultado, equivalente a realizar un corte como [::step]. La ventana debe ser un número entero. Usar un argumento de paso que no sea None o 1 producirá un resultado con una forma diferente al de la entrada.\n",
    "\n",
    "'method': Este parámetro, introducido en la versión 1.3.0, ejecuta la operación de ventana móvil por columna o fila ('single') o sobre el objeto completo ('table'). Este argumento solo se implementa al especificar engine='numba' en la llamada del método.\n",
    "\n",
    "#### Referencia: https://pandas.pydata.org/docs/reference/api/pandas.DataFrame.rolling.html#pandas-dataframe-rolling"
   ]
  },
  {
   "cell_type": "markdown",
   "id": "196f3852-e111-4308-aff3-719519194d1e",
   "metadata": {},
   "source": [
    "## Foro stackoverflow\n",
    "Deberías probar con el código:\n",
    "\n",
    "df['MA2']=df['Cierre'].rolling(window=2).mean().shift(1)\n",
    "\n",
    "El complemento .rolling(window=NumeroDeMediasMoviles).mean() logra obtener las medias móviles a partir del promedio de los dos datos anteriores, el shift es para poder mover un espacio la media y así la media móvil del periodo N será igual al promedio del periodo N-1 y N-2, sin esa parte del código sacaría el promedio del periodo N y N-1 para esa misma posición, así que con eso regulamos que las medias sean de los dos periodos anteriores.\n",
    "\n",
    "#### Referencia: https://es.stackoverflow.com/questions/44874/a%C3%B1adir-columna-a-dataframe-con-una-media-movil-sobre-los-registros-del-mismo"
   ]
  }
 ],
 "metadata": {
  "kernelspec": {
   "display_name": "Python 3 (ipykernel)",
   "language": "python",
   "name": "python3"
  },
  "language_info": {
   "codemirror_mode": {
    "name": "ipython",
    "version": 3
   },
   "file_extension": ".py",
   "mimetype": "text/x-python",
   "name": "python",
   "nbconvert_exporter": "python",
   "pygments_lexer": "ipython3",
   "version": "3.11.7"
  }
 },
 "nbformat": 4,
 "nbformat_minor": 5
}
